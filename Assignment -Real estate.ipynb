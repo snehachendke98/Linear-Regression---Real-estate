{
 "cells": [
  {
   "cell_type": "code",
   "execution_count": 3,
   "id": "1741fdfd",
   "metadata": {},
   "outputs": [],
   "source": [
    "import pandas as pd\n",
    "import numpy as np\n",
    "import seaborn as sns"
   ]
  },
  {
   "cell_type": "code",
   "execution_count": 4,
   "id": "44459a16",
   "metadata": {},
   "outputs": [
    {
     "data": {
      "text/html": [
       "<div>\n",
       "<style scoped>\n",
       "    .dataframe tbody tr th:only-of-type {\n",
       "        vertical-align: middle;\n",
       "    }\n",
       "\n",
       "    .dataframe tbody tr th {\n",
       "        vertical-align: top;\n",
       "    }\n",
       "\n",
       "    .dataframe thead th {\n",
       "        text-align: right;\n",
       "    }\n",
       "</style>\n",
       "<table border=\"1\" class=\"dataframe\">\n",
       "  <thead>\n",
       "    <tr style=\"text-align: right;\">\n",
       "      <th></th>\n",
       "      <th>No</th>\n",
       "      <th>transaction_date</th>\n",
       "      <th>house_age</th>\n",
       "      <th>distance_to_the_nearest_MRT_station</th>\n",
       "      <th>number_of_convenience_stores</th>\n",
       "      <th>latitude</th>\n",
       "      <th>longitude</th>\n",
       "      <th>house_price</th>\n",
       "    </tr>\n",
       "  </thead>\n",
       "  <tbody>\n",
       "    <tr>\n",
       "      <th>0</th>\n",
       "      <td>1</td>\n",
       "      <td>2013</td>\n",
       "      <td>32.0</td>\n",
       "      <td>84.87882</td>\n",
       "      <td>10</td>\n",
       "      <td>24.98298</td>\n",
       "      <td>121.54024</td>\n",
       "      <td>37.9</td>\n",
       "    </tr>\n",
       "    <tr>\n",
       "      <th>1</th>\n",
       "      <td>2</td>\n",
       "      <td>2013</td>\n",
       "      <td>19.5</td>\n",
       "      <td>306.59470</td>\n",
       "      <td>9</td>\n",
       "      <td>24.98034</td>\n",
       "      <td>121.53951</td>\n",
       "      <td>42.2</td>\n",
       "    </tr>\n",
       "    <tr>\n",
       "      <th>2</th>\n",
       "      <td>3</td>\n",
       "      <td>2014</td>\n",
       "      <td>13.3</td>\n",
       "      <td>561.98450</td>\n",
       "      <td>5</td>\n",
       "      <td>24.98746</td>\n",
       "      <td>121.54391</td>\n",
       "      <td>47.3</td>\n",
       "    </tr>\n",
       "    <tr>\n",
       "      <th>3</th>\n",
       "      <td>4</td>\n",
       "      <td>2014</td>\n",
       "      <td>13.3</td>\n",
       "      <td>561.98450</td>\n",
       "      <td>5</td>\n",
       "      <td>24.98746</td>\n",
       "      <td>121.54391</td>\n",
       "      <td>54.8</td>\n",
       "    </tr>\n",
       "    <tr>\n",
       "      <th>4</th>\n",
       "      <td>5</td>\n",
       "      <td>2013</td>\n",
       "      <td>5.0</td>\n",
       "      <td>390.56840</td>\n",
       "      <td>5</td>\n",
       "      <td>24.97937</td>\n",
       "      <td>121.54245</td>\n",
       "      <td>43.1</td>\n",
       "    </tr>\n",
       "  </tbody>\n",
       "</table>\n",
       "</div>"
      ],
      "text/plain": [
       "   No  transaction_date  house_age  distance_to_the_nearest_MRT_station  \\\n",
       "0   1              2013       32.0                             84.87882   \n",
       "1   2              2013       19.5                            306.59470   \n",
       "2   3              2014       13.3                            561.98450   \n",
       "3   4              2014       13.3                            561.98450   \n",
       "4   5              2013        5.0                            390.56840   \n",
       "\n",
       "   number_of_convenience_stores  latitude  longitude  house_price  \n",
       "0                            10  24.98298  121.54024         37.9  \n",
       "1                             9  24.98034  121.53951         42.2  \n",
       "2                             5  24.98746  121.54391         47.3  \n",
       "3                             5  24.98746  121.54391         54.8  \n",
       "4                             5  24.97937  121.54245         43.1  "
      ]
     },
     "execution_count": 4,
     "metadata": {},
     "output_type": "execute_result"
    }
   ],
   "source": [
    "a = pd.read_csv(r'C:\\Users\\SNEHA\\Downloads\\Real estate.csv')\n",
    "a.head()"
   ]
  },
  {
   "cell_type": "code",
   "execution_count": 5,
   "id": "2ad6e2f0",
   "metadata": {},
   "outputs": [
    {
     "data": {
      "text/html": [
       "<div>\n",
       "<style scoped>\n",
       "    .dataframe tbody tr th:only-of-type {\n",
       "        vertical-align: middle;\n",
       "    }\n",
       "\n",
       "    .dataframe tbody tr th {\n",
       "        vertical-align: top;\n",
       "    }\n",
       "\n",
       "    .dataframe thead th {\n",
       "        text-align: right;\n",
       "    }\n",
       "</style>\n",
       "<table border=\"1\" class=\"dataframe\">\n",
       "  <thead>\n",
       "    <tr style=\"text-align: right;\">\n",
       "      <th></th>\n",
       "      <th>house_age</th>\n",
       "      <th>distance_to_the_nearest_MRT_station</th>\n",
       "      <th>number_of_convenience_stores</th>\n",
       "      <th>latitude</th>\n",
       "      <th>longitude</th>\n",
       "      <th>house_price</th>\n",
       "    </tr>\n",
       "  </thead>\n",
       "  <tbody>\n",
       "    <tr>\n",
       "      <th>0</th>\n",
       "      <td>32.0</td>\n",
       "      <td>84.87882</td>\n",
       "      <td>10</td>\n",
       "      <td>24.98298</td>\n",
       "      <td>121.54024</td>\n",
       "      <td>37.9</td>\n",
       "    </tr>\n",
       "    <tr>\n",
       "      <th>1</th>\n",
       "      <td>19.5</td>\n",
       "      <td>306.59470</td>\n",
       "      <td>9</td>\n",
       "      <td>24.98034</td>\n",
       "      <td>121.53951</td>\n",
       "      <td>42.2</td>\n",
       "    </tr>\n",
       "    <tr>\n",
       "      <th>2</th>\n",
       "      <td>13.3</td>\n",
       "      <td>561.98450</td>\n",
       "      <td>5</td>\n",
       "      <td>24.98746</td>\n",
       "      <td>121.54391</td>\n",
       "      <td>47.3</td>\n",
       "    </tr>\n",
       "    <tr>\n",
       "      <th>3</th>\n",
       "      <td>13.3</td>\n",
       "      <td>561.98450</td>\n",
       "      <td>5</td>\n",
       "      <td>24.98746</td>\n",
       "      <td>121.54391</td>\n",
       "      <td>54.8</td>\n",
       "    </tr>\n",
       "    <tr>\n",
       "      <th>4</th>\n",
       "      <td>5.0</td>\n",
       "      <td>390.56840</td>\n",
       "      <td>5</td>\n",
       "      <td>24.97937</td>\n",
       "      <td>121.54245</td>\n",
       "      <td>43.1</td>\n",
       "    </tr>\n",
       "    <tr>\n",
       "      <th>...</th>\n",
       "      <td>...</td>\n",
       "      <td>...</td>\n",
       "      <td>...</td>\n",
       "      <td>...</td>\n",
       "      <td>...</td>\n",
       "      <td>...</td>\n",
       "    </tr>\n",
       "    <tr>\n",
       "      <th>409</th>\n",
       "      <td>13.7</td>\n",
       "      <td>4082.01500</td>\n",
       "      <td>0</td>\n",
       "      <td>24.94155</td>\n",
       "      <td>121.50381</td>\n",
       "      <td>15.4</td>\n",
       "    </tr>\n",
       "    <tr>\n",
       "      <th>410</th>\n",
       "      <td>5.6</td>\n",
       "      <td>90.45606</td>\n",
       "      <td>9</td>\n",
       "      <td>24.97433</td>\n",
       "      <td>121.54310</td>\n",
       "      <td>50.0</td>\n",
       "    </tr>\n",
       "    <tr>\n",
       "      <th>411</th>\n",
       "      <td>18.8</td>\n",
       "      <td>390.96960</td>\n",
       "      <td>7</td>\n",
       "      <td>24.97923</td>\n",
       "      <td>121.53986</td>\n",
       "      <td>40.6</td>\n",
       "    </tr>\n",
       "    <tr>\n",
       "      <th>412</th>\n",
       "      <td>8.1</td>\n",
       "      <td>104.81010</td>\n",
       "      <td>5</td>\n",
       "      <td>24.96674</td>\n",
       "      <td>121.54067</td>\n",
       "      <td>52.5</td>\n",
       "    </tr>\n",
       "    <tr>\n",
       "      <th>413</th>\n",
       "      <td>6.5</td>\n",
       "      <td>90.45606</td>\n",
       "      <td>9</td>\n",
       "      <td>24.97433</td>\n",
       "      <td>121.54310</td>\n",
       "      <td>63.9</td>\n",
       "    </tr>\n",
       "  </tbody>\n",
       "</table>\n",
       "<p>414 rows × 6 columns</p>\n",
       "</div>"
      ],
      "text/plain": [
       "     house_age  distance_to_the_nearest_MRT_station  \\\n",
       "0         32.0                             84.87882   \n",
       "1         19.5                            306.59470   \n",
       "2         13.3                            561.98450   \n",
       "3         13.3                            561.98450   \n",
       "4          5.0                            390.56840   \n",
       "..         ...                                  ...   \n",
       "409       13.7                           4082.01500   \n",
       "410        5.6                             90.45606   \n",
       "411       18.8                            390.96960   \n",
       "412        8.1                            104.81010   \n",
       "413        6.5                             90.45606   \n",
       "\n",
       "     number_of_convenience_stores  latitude  longitude  house_price  \n",
       "0                              10  24.98298  121.54024         37.9  \n",
       "1                               9  24.98034  121.53951         42.2  \n",
       "2                               5  24.98746  121.54391         47.3  \n",
       "3                               5  24.98746  121.54391         54.8  \n",
       "4                               5  24.97937  121.54245         43.1  \n",
       "..                            ...       ...        ...          ...  \n",
       "409                             0  24.94155  121.50381         15.4  \n",
       "410                             9  24.97433  121.54310         50.0  \n",
       "411                             7  24.97923  121.53986         40.6  \n",
       "412                             5  24.96674  121.54067         52.5  \n",
       "413                             9  24.97433  121.54310         63.9  \n",
       "\n",
       "[414 rows x 6 columns]"
      ]
     },
     "execution_count": 5,
     "metadata": {},
     "output_type": "execute_result"
    }
   ],
   "source": [
    "a=a.drop(['No','transaction_date'],axis=1)\n",
    "a"
   ]
  },
  {
   "cell_type": "markdown",
   "id": "f353cd10",
   "metadata": {},
   "source": [
    "# Data type"
   ]
  },
  {
   "cell_type": "code",
   "execution_count": 6,
   "id": "5786232b",
   "metadata": {},
   "outputs": [
    {
     "name": "stdout",
     "output_type": "stream",
     "text": [
      "<class 'pandas.core.frame.DataFrame'>\n",
      "RangeIndex: 414 entries, 0 to 413\n",
      "Data columns (total 6 columns):\n",
      " #   Column                               Non-Null Count  Dtype  \n",
      "---  ------                               --------------  -----  \n",
      " 0   house_age                            414 non-null    float64\n",
      " 1   distance_to_the_nearest_MRT_station  414 non-null    float64\n",
      " 2   number_of_convenience_stores         414 non-null    int64  \n",
      " 3   latitude                             414 non-null    float64\n",
      " 4   longitude                            414 non-null    float64\n",
      " 5   house_price                          414 non-null    float64\n",
      "dtypes: float64(5), int64(1)\n",
      "memory usage: 19.5 KB\n"
     ]
    }
   ],
   "source": [
    "a.info()"
   ]
  },
  {
   "cell_type": "markdown",
   "id": "cd797fa1",
   "metadata": {},
   "source": [
    "# Univariate analysis"
   ]
  },
  {
   "cell_type": "code",
   "execution_count": 7,
   "id": "1dac94cf",
   "metadata": {},
   "outputs": [
    {
     "data": {
      "text/html": [
       "<div>\n",
       "<style scoped>\n",
       "    .dataframe tbody tr th:only-of-type {\n",
       "        vertical-align: middle;\n",
       "    }\n",
       "\n",
       "    .dataframe tbody tr th {\n",
       "        vertical-align: top;\n",
       "    }\n",
       "\n",
       "    .dataframe thead th {\n",
       "        text-align: right;\n",
       "    }\n",
       "</style>\n",
       "<table border=\"1\" class=\"dataframe\">\n",
       "  <thead>\n",
       "    <tr style=\"text-align: right;\">\n",
       "      <th></th>\n",
       "      <th>house_age</th>\n",
       "      <th>distance_to_the_nearest_MRT_station</th>\n",
       "      <th>number_of_convenience_stores</th>\n",
       "      <th>latitude</th>\n",
       "      <th>longitude</th>\n",
       "      <th>house_price</th>\n",
       "    </tr>\n",
       "  </thead>\n",
       "  <tbody>\n",
       "    <tr>\n",
       "      <th>count</th>\n",
       "      <td>414.000000</td>\n",
       "      <td>414.000000</td>\n",
       "      <td>414.000000</td>\n",
       "      <td>414.000000</td>\n",
       "      <td>414.000000</td>\n",
       "      <td>414.000000</td>\n",
       "    </tr>\n",
       "    <tr>\n",
       "      <th>mean</th>\n",
       "      <td>17.712560</td>\n",
       "      <td>1083.885689</td>\n",
       "      <td>4.094203</td>\n",
       "      <td>24.969030</td>\n",
       "      <td>121.533361</td>\n",
       "      <td>37.980193</td>\n",
       "    </tr>\n",
       "    <tr>\n",
       "      <th>std</th>\n",
       "      <td>11.392485</td>\n",
       "      <td>1262.109595</td>\n",
       "      <td>2.945562</td>\n",
       "      <td>0.012410</td>\n",
       "      <td>0.015347</td>\n",
       "      <td>13.606488</td>\n",
       "    </tr>\n",
       "    <tr>\n",
       "      <th>min</th>\n",
       "      <td>0.000000</td>\n",
       "      <td>23.382840</td>\n",
       "      <td>0.000000</td>\n",
       "      <td>24.932070</td>\n",
       "      <td>121.473530</td>\n",
       "      <td>7.600000</td>\n",
       "    </tr>\n",
       "    <tr>\n",
       "      <th>25%</th>\n",
       "      <td>9.025000</td>\n",
       "      <td>289.324800</td>\n",
       "      <td>1.000000</td>\n",
       "      <td>24.963000</td>\n",
       "      <td>121.528085</td>\n",
       "      <td>27.700000</td>\n",
       "    </tr>\n",
       "    <tr>\n",
       "      <th>50%</th>\n",
       "      <td>16.100000</td>\n",
       "      <td>492.231300</td>\n",
       "      <td>4.000000</td>\n",
       "      <td>24.971100</td>\n",
       "      <td>121.538630</td>\n",
       "      <td>38.450000</td>\n",
       "    </tr>\n",
       "    <tr>\n",
       "      <th>75%</th>\n",
       "      <td>28.150000</td>\n",
       "      <td>1454.279000</td>\n",
       "      <td>6.000000</td>\n",
       "      <td>24.977455</td>\n",
       "      <td>121.543305</td>\n",
       "      <td>46.600000</td>\n",
       "    </tr>\n",
       "    <tr>\n",
       "      <th>max</th>\n",
       "      <td>43.800000</td>\n",
       "      <td>6488.021000</td>\n",
       "      <td>10.000000</td>\n",
       "      <td>25.014590</td>\n",
       "      <td>121.566270</td>\n",
       "      <td>117.500000</td>\n",
       "    </tr>\n",
       "  </tbody>\n",
       "</table>\n",
       "</div>"
      ],
      "text/plain": [
       "        house_age  distance_to_the_nearest_MRT_station  \\\n",
       "count  414.000000                           414.000000   \n",
       "mean    17.712560                          1083.885689   \n",
       "std     11.392485                          1262.109595   \n",
       "min      0.000000                            23.382840   \n",
       "25%      9.025000                           289.324800   \n",
       "50%     16.100000                           492.231300   \n",
       "75%     28.150000                          1454.279000   \n",
       "max     43.800000                          6488.021000   \n",
       "\n",
       "       number_of_convenience_stores    latitude   longitude  house_price  \n",
       "count                    414.000000  414.000000  414.000000   414.000000  \n",
       "mean                       4.094203   24.969030  121.533361    37.980193  \n",
       "std                        2.945562    0.012410    0.015347    13.606488  \n",
       "min                        0.000000   24.932070  121.473530     7.600000  \n",
       "25%                        1.000000   24.963000  121.528085    27.700000  \n",
       "50%                        4.000000   24.971100  121.538630    38.450000  \n",
       "75%                        6.000000   24.977455  121.543305    46.600000  \n",
       "max                       10.000000   25.014590  121.566270   117.500000  "
      ]
     },
     "execution_count": 7,
     "metadata": {},
     "output_type": "execute_result"
    }
   ],
   "source": [
    "a.describe()"
   ]
  },
  {
   "cell_type": "markdown",
   "id": "2428ab1e",
   "metadata": {},
   "source": [
    "## Identify outliers"
   ]
  },
  {
   "cell_type": "code",
   "execution_count": 8,
   "id": "cc008da1",
   "metadata": {},
   "outputs": [
    {
     "data": {
      "image/png": "[encoded data removed]",
      "text/plain": [
       "<Figure size 432x288 with 1 Axes>"
      ]
     },
     "metadata": {
      "needs_background": "light"
     },
     "output_type": "display_data"
    },
    {
     "data": {
      "image/png": "[encoded data removed]",
      "text/plain": [
       "<Figure size 432x288 with 1 Axes>"
      ]
     },
     "metadata": {
      "needs_background": "light"
     },
     "output_type": "display_data"
    },
    {
     "data": {
      "image/png": "[encoded data removed]",
      "text/plain": [
       "<Figure size 432x288 with 1 Axes>"
      ]
     },
     "metadata": {
      "needs_background": "light"
     },
     "output_type": "display_data"
    },
    {
     "data": {
      "image/png": "[encoded data removed]",
      "text/plain": [
       "<Figure size 432x288 with 1 Axes>"
      ]
     },
     "metadata": {
      "needs_background": "light"
     },
     "output_type": "display_data"
    },
    {
     "data": {
      "image/png": "[encoded data removed]",
      "text/plain": [
       "<Figure size 432x288 with 1 Axes>"
      ]
     },
     "metadata": {
      "needs_background": "light"
     },
     "output_type": "display_data"
    },
    {
     "data": {
      "image/png": "[encoded data removed]",
      "text/plain": [
       "<Figure size 432x288 with 1 Axes>"
      ]
     },
     "metadata": {
      "needs_background": "light"
     },
     "output_type": "display_data"
    }
   ],
   "source": [
    "import matplotlib.pyplot as plt\n",
    "i =['house_age','distance_to_the_nearest_MRT_station','number_of_convenience_stores','latitude','longitude','house_price']\n",
    "for j in i:\n",
    "    plt.figure()\n",
    "    plt.boxplot(a[j])"
   ]
  },
  {
   "cell_type": "code",
   "execution_count": 9,
   "id": "fec6f9a0",
   "metadata": {},
   "outputs": [
    {
     "data": {
      "text/plain": [
       "(414, 6)"
      ]
     },
     "execution_count": 9,
     "metadata": {},
     "output_type": "execute_result"
    }
   ],
   "source": [
    "a.shape"
   ]
  },
  {
   "cell_type": "code",
   "execution_count": 10,
   "id": "9e0d6a06",
   "metadata": {},
   "outputs": [],
   "source": [
    "def outliers(df,col):\n",
    "    q1 = df[col].quantile(0.25)\n",
    "    q3 = df[col].quantile(0.75)\n",
    "    iqr = q3 - q1\n",
    "    lower_limit =q1 - 1.5 * iqr\n",
    "    upper_limit = q3 + 1.5 * iqr\n",
    "    df[col] = np.where(df[col] < lower_limit,lower_limit,\n",
    "                       np.where(df[col] > upper_limit,upper_limit,df[col]))\n",
    "    return df[col]"
   ]
  },
  {
   "cell_type": "code",
   "execution_count": 11,
   "id": "0f3b87cf",
   "metadata": {},
   "outputs": [
    {
     "name": "stdout",
     "output_type": "stream",
     "text": [
      "0      32.0\n",
      "1      19.5\n",
      "2      13.3\n",
      "3      13.3\n",
      "4       5.0\n",
      "       ... \n",
      "409    13.7\n",
      "410     5.6\n",
      "411    18.8\n",
      "412     8.1\n",
      "413     6.5\n",
      "Name: house_age, Length: 414, dtype: float64\n",
      "0        84.87882\n",
      "1       306.59470\n",
      "2       561.98450\n",
      "3       561.98450\n",
      "4       390.56840\n",
      "          ...    \n",
      "409    3201.71030\n",
      "410      90.45606\n",
      "411     390.96960\n",
      "412     104.81010\n",
      "413      90.45606\n",
      "Name: distance_to_the_nearest_MRT_station, Length: 414, dtype: float64\n",
      "0      10.0\n",
      "1       9.0\n",
      "2       5.0\n",
      "3       5.0\n",
      "4       5.0\n",
      "       ... \n",
      "409     0.0\n",
      "410     9.0\n",
      "411     7.0\n",
      "412     5.0\n",
      "413     9.0\n",
      "Name: number_of_convenience_stores, Length: 414, dtype: float64\n",
      "0      24.98298\n",
      "1      24.98034\n",
      "2      24.98746\n",
      "3      24.98746\n",
      "4      24.97937\n",
      "         ...   \n",
      "409    24.94155\n",
      "410    24.97433\n",
      "411    24.97923\n",
      "412    24.96674\n",
      "413    24.97433\n",
      "Name: latitude, Length: 414, dtype: float64\n",
      "0      121.540240\n",
      "1      121.539510\n",
      "2      121.543910\n",
      "3      121.543910\n",
      "4      121.542450\n",
      "          ...    \n",
      "409    121.505255\n",
      "410    121.543100\n",
      "411    121.539860\n",
      "412    121.540670\n",
      "413    121.543100\n",
      "Name: longitude, Length: 414, dtype: float64\n",
      "0      37.9\n",
      "1      42.2\n",
      "2      47.3\n",
      "3      54.8\n",
      "4      43.1\n",
      "       ... \n",
      "409    15.4\n",
      "410    50.0\n",
      "411    40.6\n",
      "412    52.5\n",
      "413    63.9\n",
      "Name: house_price, Length: 414, dtype: float64\n"
     ]
    },
    {
     "data": {
      "image/png": "[encoded data removed]",
      "text/plain": [
       "<Figure size 432x288 with 1 Axes>"
      ]
     },
     "metadata": {
      "needs_background": "light"
     },
     "output_type": "display_data"
    },
    {
     "data": {
      "image/png": "[encoded data removed]",
      "text/plain": [
       "<Figure size 432x288 with 1 Axes>"
      ]
     },
     "metadata": {
      "needs_background": "light"
     },
     "output_type": "display_data"
    },
    {
     "data": {
      "image/png": "[encoded data removed]",
      "text/plain": [
       "<Figure size 432x288 with 1 Axes>"
      ]
     },
     "metadata": {
      "needs_background": "light"
     },
     "output_type": "display_data"
    },
    {
     "data": {
      "image/png": "[encoded data removed]",
      "text/plain": [
       "<Figure size 432x288 with 1 Axes>"
      ]
     },
     "metadata": {
      "needs_background": "light"
     },
     "output_type": "display_data"
    },
    {
     "data": {
      "image/png": "[encoded data removed]",
      "text/plain": [
       "<Figure size 432x288 with 1 Axes>"
      ]
     },
     "metadata": {
      "needs_background": "light"
     },
     "output_type": "display_data"
    },
    {
     "data": {
      "image/png": "[encoded data removed]",
      "text/plain": [
       "<Figure size 432x288 with 1 Axes>"
      ]
     },
     "metadata": {
      "needs_background": "light"
     },
     "output_type": "display_data"
    }
   ],
   "source": [
    "for j in i:\n",
    "    print(outliers(a,j))\n",
    "\n",
    "for j in i:\n",
    "    plt.figure()\n",
    "    plt.boxplot(a[j])"
   ]
  },
  {
   "cell_type": "markdown",
   "id": "32fa7c36",
   "metadata": {},
   "source": [
    "## Identify missing values"
   ]
  },
  {
   "cell_type": "code",
   "execution_count": 12,
   "id": "7fbc5b9e",
   "metadata": {},
   "outputs": [
    {
     "data": {
      "text/plain": [
       "house_age                              0\n",
       "distance_to_the_nearest_MRT_station    0\n",
       "number_of_convenience_stores           0\n",
       "latitude                               0\n",
       "longitude                              0\n",
       "house_price                            0\n",
       "dtype: int64"
      ]
     },
     "execution_count": 12,
     "metadata": {},
     "output_type": "execute_result"
    }
   ],
   "source": [
    "a.isna().sum()"
   ]
  },
  {
   "cell_type": "markdown",
   "id": "45943d35",
   "metadata": {},
   "source": [
    "## Data Partition"
   ]
  },
  {
   "cell_type": "code",
   "execution_count": 13,
   "id": "53539fa6",
   "metadata": {},
   "outputs": [
    {
     "data": {
      "text/html": [
       "<div>\n",
       "<style scoped>\n",
       "    .dataframe tbody tr th:only-of-type {\n",
       "        vertical-align: middle;\n",
       "    }\n",
       "\n",
       "    .dataframe tbody tr th {\n",
       "        vertical-align: top;\n",
       "    }\n",
       "\n",
       "    .dataframe thead th {\n",
       "        text-align: right;\n",
       "    }\n",
       "</style>\n",
       "<table border=\"1\" class=\"dataframe\">\n",
       "  <thead>\n",
       "    <tr style=\"text-align: right;\">\n",
       "      <th></th>\n",
       "      <th>house_age</th>\n",
       "      <th>distance_to_the_nearest_MRT_station</th>\n",
       "      <th>number_of_convenience_stores</th>\n",
       "      <th>latitude</th>\n",
       "      <th>longitude</th>\n",
       "    </tr>\n",
       "  </thead>\n",
       "  <tbody>\n",
       "    <tr>\n",
       "      <th>0</th>\n",
       "      <td>32.0</td>\n",
       "      <td>84.87882</td>\n",
       "      <td>10.0</td>\n",
       "      <td>24.98298</td>\n",
       "      <td>121.54024</td>\n",
       "    </tr>\n",
       "    <tr>\n",
       "      <th>1</th>\n",
       "      <td>19.5</td>\n",
       "      <td>306.59470</td>\n",
       "      <td>9.0</td>\n",
       "      <td>24.98034</td>\n",
       "      <td>121.53951</td>\n",
       "    </tr>\n",
       "    <tr>\n",
       "      <th>2</th>\n",
       "      <td>13.3</td>\n",
       "      <td>561.98450</td>\n",
       "      <td>5.0</td>\n",
       "      <td>24.98746</td>\n",
       "      <td>121.54391</td>\n",
       "    </tr>\n",
       "    <tr>\n",
       "      <th>3</th>\n",
       "      <td>13.3</td>\n",
       "      <td>561.98450</td>\n",
       "      <td>5.0</td>\n",
       "      <td>24.98746</td>\n",
       "      <td>121.54391</td>\n",
       "    </tr>\n",
       "    <tr>\n",
       "      <th>4</th>\n",
       "      <td>5.0</td>\n",
       "      <td>390.56840</td>\n",
       "      <td>5.0</td>\n",
       "      <td>24.97937</td>\n",
       "      <td>121.54245</td>\n",
       "    </tr>\n",
       "  </tbody>\n",
       "</table>\n",
       "</div>"
      ],
      "text/plain": [
       "   house_age  distance_to_the_nearest_MRT_station  \\\n",
       "0       32.0                             84.87882   \n",
       "1       19.5                            306.59470   \n",
       "2       13.3                            561.98450   \n",
       "3       13.3                            561.98450   \n",
       "4        5.0                            390.56840   \n",
       "\n",
       "   number_of_convenience_stores  latitude  longitude  \n",
       "0                          10.0  24.98298  121.54024  \n",
       "1                           9.0  24.98034  121.53951  \n",
       "2                           5.0  24.98746  121.54391  \n",
       "3                           5.0  24.98746  121.54391  \n",
       "4                           5.0  24.97937  121.54245  "
      ]
     },
     "execution_count": 13,
     "metadata": {},
     "output_type": "execute_result"
    }
   ],
   "source": [
    "x = a.drop('house_price',axis=1)\n",
    "x.head()"
   ]
  },
  {
   "cell_type": "code",
   "execution_count": 14,
   "id": "17472d84",
   "metadata": {},
   "outputs": [
    {
     "data": {
      "text/html": [
       "<div>\n",
       "<style scoped>\n",
       "    .dataframe tbody tr th:only-of-type {\n",
       "        vertical-align: middle;\n",
       "    }\n",
       "\n",
       "    .dataframe tbody tr th {\n",
       "        vertical-align: top;\n",
       "    }\n",
       "\n",
       "    .dataframe thead th {\n",
       "        text-align: right;\n",
       "    }\n",
       "</style>\n",
       "<table border=\"1\" class=\"dataframe\">\n",
       "  <thead>\n",
       "    <tr style=\"text-align: right;\">\n",
       "      <th></th>\n",
       "      <th>house_price</th>\n",
       "    </tr>\n",
       "  </thead>\n",
       "  <tbody>\n",
       "    <tr>\n",
       "      <th>0</th>\n",
       "      <td>37.9</td>\n",
       "    </tr>\n",
       "    <tr>\n",
       "      <th>1</th>\n",
       "      <td>42.2</td>\n",
       "    </tr>\n",
       "    <tr>\n",
       "      <th>2</th>\n",
       "      <td>47.3</td>\n",
       "    </tr>\n",
       "    <tr>\n",
       "      <th>3</th>\n",
       "      <td>54.8</td>\n",
       "    </tr>\n",
       "    <tr>\n",
       "      <th>4</th>\n",
       "      <td>43.1</td>\n",
       "    </tr>\n",
       "  </tbody>\n",
       "</table>\n",
       "</div>"
      ],
      "text/plain": [
       "   house_price\n",
       "0         37.9\n",
       "1         42.2\n",
       "2         47.3\n",
       "3         54.8\n",
       "4         43.1"
      ]
     },
     "execution_count": 14,
     "metadata": {},
     "output_type": "execute_result"
    }
   ],
   "source": [
    "y =a[['house_price']]\n",
    "y.head()"
   ]
  },
  {
   "cell_type": "code",
   "execution_count": 15,
   "id": "534652dc",
   "metadata": {},
   "outputs": [],
   "source": [
    "from sklearn.model_selection import train_test_split\n",
    "X_train ,X_test ,Y_train ,Y_test =train_test_split(x,y,train_size=0.7,random_state=80)"
   ]
  },
  {
   "cell_type": "code",
   "execution_count": 16,
   "id": "dda1ef23",
   "metadata": {},
   "outputs": [
    {
     "data": {
      "text/html": [
       "<div>\n",
       "<style scoped>\n",
       "    .dataframe tbody tr th:only-of-type {\n",
       "        vertical-align: middle;\n",
       "    }\n",
       "\n",
       "    .dataframe tbody tr th {\n",
       "        vertical-align: top;\n",
       "    }\n",
       "\n",
       "    .dataframe thead th {\n",
       "        text-align: right;\n",
       "    }\n",
       "</style>\n",
       "<table border=\"1\" class=\"dataframe\">\n",
       "  <thead>\n",
       "    <tr style=\"text-align: right;\">\n",
       "      <th></th>\n",
       "      <th>house_age</th>\n",
       "      <th>distance_to_the_nearest_MRT_station</th>\n",
       "      <th>number_of_convenience_stores</th>\n",
       "      <th>latitude</th>\n",
       "      <th>longitude</th>\n",
       "      <th>house_price</th>\n",
       "    </tr>\n",
       "  </thead>\n",
       "  <tbody>\n",
       "    <tr>\n",
       "      <th>58</th>\n",
       "      <td>30.3</td>\n",
       "      <td>3201.71030</td>\n",
       "      <td>1.0</td>\n",
       "      <td>24.94925</td>\n",
       "      <td>121.505255</td>\n",
       "      <td>22.60</td>\n",
       "    </tr>\n",
       "    <tr>\n",
       "      <th>270</th>\n",
       "      <td>10.8</td>\n",
       "      <td>252.58220</td>\n",
       "      <td>1.0</td>\n",
       "      <td>24.97460</td>\n",
       "      <td>121.530460</td>\n",
       "      <td>74.95</td>\n",
       "    </tr>\n",
       "    <tr>\n",
       "      <th>398</th>\n",
       "      <td>14.7</td>\n",
       "      <td>1717.19300</td>\n",
       "      <td>2.0</td>\n",
       "      <td>24.96447</td>\n",
       "      <td>121.516490</td>\n",
       "      <td>23.00</td>\n",
       "    </tr>\n",
       "    <tr>\n",
       "      <th>19</th>\n",
       "      <td>1.5</td>\n",
       "      <td>23.38284</td>\n",
       "      <td>7.0</td>\n",
       "      <td>24.96772</td>\n",
       "      <td>121.541020</td>\n",
       "      <td>47.70</td>\n",
       "    </tr>\n",
       "    <tr>\n",
       "      <th>110</th>\n",
       "      <td>8.1</td>\n",
       "      <td>104.81010</td>\n",
       "      <td>5.0</td>\n",
       "      <td>24.96674</td>\n",
       "      <td>121.540670</td>\n",
       "      <td>51.60</td>\n",
       "    </tr>\n",
       "    <tr>\n",
       "      <th>...</th>\n",
       "      <td>...</td>\n",
       "      <td>...</td>\n",
       "      <td>...</td>\n",
       "      <td>...</td>\n",
       "      <td>...</td>\n",
       "      <td>...</td>\n",
       "    </tr>\n",
       "    <tr>\n",
       "      <th>306</th>\n",
       "      <td>14.4</td>\n",
       "      <td>169.98030</td>\n",
       "      <td>1.0</td>\n",
       "      <td>24.97369</td>\n",
       "      <td>121.529790</td>\n",
       "      <td>50.20</td>\n",
       "    </tr>\n",
       "    <tr>\n",
       "      <th>10</th>\n",
       "      <td>34.8</td>\n",
       "      <td>405.21340</td>\n",
       "      <td>1.0</td>\n",
       "      <td>24.97349</td>\n",
       "      <td>121.533720</td>\n",
       "      <td>41.40</td>\n",
       "    </tr>\n",
       "    <tr>\n",
       "      <th>211</th>\n",
       "      <td>0.0</td>\n",
       "      <td>274.01440</td>\n",
       "      <td>1.0</td>\n",
       "      <td>24.97480</td>\n",
       "      <td>121.530590</td>\n",
       "      <td>43.50</td>\n",
       "    </tr>\n",
       "    <tr>\n",
       "      <th>188</th>\n",
       "      <td>34.8</td>\n",
       "      <td>190.03920</td>\n",
       "      <td>8.0</td>\n",
       "      <td>24.97707</td>\n",
       "      <td>121.543120</td>\n",
       "      <td>44.30</td>\n",
       "    </tr>\n",
       "    <tr>\n",
       "      <th>175</th>\n",
       "      <td>30.2</td>\n",
       "      <td>472.17450</td>\n",
       "      <td>3.0</td>\n",
       "      <td>24.97005</td>\n",
       "      <td>121.537580</td>\n",
       "      <td>36.50</td>\n",
       "    </tr>\n",
       "  </tbody>\n",
       "</table>\n",
       "<p>289 rows × 6 columns</p>\n",
       "</div>"
      ],
      "text/plain": [
       "     house_age  distance_to_the_nearest_MRT_station  \\\n",
       "58        30.3                           3201.71030   \n",
       "270       10.8                            252.58220   \n",
       "398       14.7                           1717.19300   \n",
       "19         1.5                             23.38284   \n",
       "110        8.1                            104.81010   \n",
       "..         ...                                  ...   \n",
       "306       14.4                            169.98030   \n",
       "10        34.8                            405.21340   \n",
       "211        0.0                            274.01440   \n",
       "188       34.8                            190.03920   \n",
       "175       30.2                            472.17450   \n",
       "\n",
       "     number_of_convenience_stores  latitude   longitude  house_price  \n",
       "58                            1.0  24.94925  121.505255        22.60  \n",
       "270                           1.0  24.97460  121.530460        74.95  \n",
       "398                           2.0  24.96447  121.516490        23.00  \n",
       "19                            7.0  24.96772  121.541020        47.70  \n",
       "110                           5.0  24.96674  121.540670        51.60  \n",
       "..                            ...       ...         ...          ...  \n",
       "306                           1.0  24.97369  121.529790        50.20  \n",
       "10                            1.0  24.97349  121.533720        41.40  \n",
       "211                           1.0  24.97480  121.530590        43.50  \n",
       "188                           8.0  24.97707  121.543120        44.30  \n",
       "175                           3.0  24.97005  121.537580        36.50  \n",
       "\n",
       "[289 rows x 6 columns]"
      ]
     },
     "execution_count": 16,
     "metadata": {},
     "output_type": "execute_result"
    }
   ],
   "source": [
    "df = pd.concat([X_train,Y_train],axis=1)\n",
    "df"
   ]
  },
  {
   "cell_type": "markdown",
   "id": "f502127a",
   "metadata": {},
   "source": [
    "## Correlation matrix"
   ]
  },
  {
   "cell_type": "code",
   "execution_count": 17,
   "id": "e88d3709",
   "metadata": {},
   "outputs": [
    {
     "data": {
      "text/html": [
       "<div>\n",
       "<style scoped>\n",
       "    .dataframe tbody tr th:only-of-type {\n",
       "        vertical-align: middle;\n",
       "    }\n",
       "\n",
       "    .dataframe tbody tr th {\n",
       "        vertical-align: top;\n",
       "    }\n",
       "\n",
       "    .dataframe thead th {\n",
       "        text-align: right;\n",
       "    }\n",
       "</style>\n",
       "<table border=\"1\" class=\"dataframe\">\n",
       "  <thead>\n",
       "    <tr style=\"text-align: right;\">\n",
       "      <th></th>\n",
       "      <th>house_age</th>\n",
       "      <th>distance_to_the_nearest_MRT_station</th>\n",
       "      <th>number_of_convenience_stores</th>\n",
       "      <th>latitude</th>\n",
       "      <th>longitude</th>\n",
       "      <th>house_price</th>\n",
       "    </tr>\n",
       "  </thead>\n",
       "  <tbody>\n",
       "    <tr>\n",
       "      <th>house_age</th>\n",
       "      <td>1.000000</td>\n",
       "      <td>-0.003020</td>\n",
       "      <td>0.039009</td>\n",
       "      <td>0.048570</td>\n",
       "      <td>-0.021208</td>\n",
       "      <td>-0.242076</td>\n",
       "    </tr>\n",
       "    <tr>\n",
       "      <th>distance_to_the_nearest_MRT_station</th>\n",
       "      <td>-0.003020</td>\n",
       "      <td>1.000000</td>\n",
       "      <td>-0.624445</td>\n",
       "      <td>-0.543144</td>\n",
       "      <td>-0.726350</td>\n",
       "      <td>-0.699675</td>\n",
       "    </tr>\n",
       "    <tr>\n",
       "      <th>number_of_convenience_stores</th>\n",
       "      <td>0.039009</td>\n",
       "      <td>-0.624445</td>\n",
       "      <td>1.000000</td>\n",
       "      <td>0.433604</td>\n",
       "      <td>0.414703</td>\n",
       "      <td>0.577362</td>\n",
       "    </tr>\n",
       "    <tr>\n",
       "      <th>latitude</th>\n",
       "      <td>0.048570</td>\n",
       "      <td>-0.543144</td>\n",
       "      <td>0.433604</td>\n",
       "      <td>1.000000</td>\n",
       "      <td>0.332656</td>\n",
       "      <td>0.543846</td>\n",
       "    </tr>\n",
       "    <tr>\n",
       "      <th>longitude</th>\n",
       "      <td>-0.021208</td>\n",
       "      <td>-0.726350</td>\n",
       "      <td>0.414703</td>\n",
       "      <td>0.332656</td>\n",
       "      <td>1.000000</td>\n",
       "      <td>0.493262</td>\n",
       "    </tr>\n",
       "    <tr>\n",
       "      <th>house_price</th>\n",
       "      <td>-0.242076</td>\n",
       "      <td>-0.699675</td>\n",
       "      <td>0.577362</td>\n",
       "      <td>0.543846</td>\n",
       "      <td>0.493262</td>\n",
       "      <td>1.000000</td>\n",
       "    </tr>\n",
       "  </tbody>\n",
       "</table>\n",
       "</div>"
      ],
      "text/plain": [
       "                                     house_age  \\\n",
       "house_age                             1.000000   \n",
       "distance_to_the_nearest_MRT_station  -0.003020   \n",
       "number_of_convenience_stores          0.039009   \n",
       "latitude                              0.048570   \n",
       "longitude                            -0.021208   \n",
       "house_price                          -0.242076   \n",
       "\n",
       "                                     distance_to_the_nearest_MRT_station  \\\n",
       "house_age                                                      -0.003020   \n",
       "distance_to_the_nearest_MRT_station                             1.000000   \n",
       "number_of_convenience_stores                                   -0.624445   \n",
       "latitude                                                       -0.543144   \n",
       "longitude                                                      -0.726350   \n",
       "house_price                                                    -0.699675   \n",
       "\n",
       "                                     number_of_convenience_stores  latitude  \\\n",
       "house_age                                                0.039009  0.048570   \n",
       "distance_to_the_nearest_MRT_station                     -0.624445 -0.543144   \n",
       "number_of_convenience_stores                             1.000000  0.433604   \n",
       "latitude                                                 0.433604  1.000000   \n",
       "longitude                                                0.414703  0.332656   \n",
       "house_price                                              0.577362  0.543846   \n",
       "\n",
       "                                     longitude  house_price  \n",
       "house_age                            -0.021208    -0.242076  \n",
       "distance_to_the_nearest_MRT_station  -0.726350    -0.699675  \n",
       "number_of_convenience_stores          0.414703     0.577362  \n",
       "latitude                              0.332656     0.543846  \n",
       "longitude                             1.000000     0.493262  \n",
       "house_price                           0.493262     1.000000  "
      ]
     },
     "execution_count": 17,
     "metadata": {},
     "output_type": "execute_result"
    }
   ],
   "source": [
    "df.corr()"
   ]
  },
  {
   "cell_type": "code",
   "execution_count": 18,
   "id": "8b4aa7f1",
   "metadata": {},
   "outputs": [
    {
     "data": {
      "text/plain": [
       "<AxesSubplot:>"
      ]
     },
     "execution_count": 18,
     "metadata": {},
     "output_type": "execute_result"
    },
    {
     "data": {
      "image/png": "[encoded data removed]",
      "text/plain": [
       "<Figure size 432x288 with 2 Axes>"
      ]
     },
     "metadata": {
      "needs_background": "light"
     },
     "output_type": "display_data"
    }
   ],
   "source": [
    "sns.heatmap(df.corr(),annot=True)"
   ]
  },
  {
   "cell_type": "code",
   "execution_count": 19,
   "id": "1a9a00af",
   "metadata": {},
   "outputs": [
    {
     "data": {
      "text/plain": [
       "<AxesSubplot:xlabel='longitude', ylabel='house_price'>"
      ]
     },
     "execution_count": 19,
     "metadata": {},
     "output_type": "execute_result"
    },
    {
     "data": {
      "image/png": "[encoded data removed]",
      "text/plain": [
       "<Figure size 432x288 with 1 Axes>"
      ]
     },
     "metadata": {
      "needs_background": "light"
     },
     "output_type": "display_data"
    }
   ],
   "source": [
    "sns.scatterplot(x='longitude',y='house_price',data=df)"
   ]
  },
  {
   "cell_type": "markdown",
   "id": "27859dfd",
   "metadata": {},
   "source": [
    "* Longitude has 79% strong positive correlation with house price\n",
    "* There is no collinearity in data"
   ]
  },
  {
   "cell_type": "markdown",
   "id": "11f197fa",
   "metadata": {},
   "source": [
    "# Multicollinearity"
   ]
  },
  {
   "cell_type": "code",
   "execution_count": 20,
   "id": "6b930e88",
   "metadata": {},
   "outputs": [
    {
     "data": {
      "text/plain": [
       "house_age                              3.351380e+00\n",
       "distance_to_the_nearest_MRT_station    3.611708e+00\n",
       "number_of_convenience_stores           4.777807e+00\n",
       "latitude                               5.729174e+06\n",
       "longitude                              5.729109e+06\n",
       "dtype: float64"
      ]
     },
     "execution_count": 20,
     "metadata": {},
     "output_type": "execute_result"
    }
   ],
   "source": [
    "from statsmodels.stats.outliers_influence import variance_inflation_factor\n",
    "x1 =df.drop('house_price',axis=1)\n",
    "\n",
    "series_before=pd.Series([variance_inflation_factor(x1.values,i)\n",
    "                        for i in range(x1.shape[1])],\n",
    "                       index=x1.columns)\n",
    "series_before"
   ]
  },
  {
   "cell_type": "code",
   "execution_count": 39,
   "id": "fb760aed",
   "metadata": {},
   "outputs": [
    {
     "name": "stderr",
     "output_type": "stream",
     "text": [
      "C:\\Users\\SNEHA\\anaconda3\\lib\\site-packages\\seaborn\\distributions.py:2619: FutureWarning: `distplot` is a deprecated function and will be removed in a future version. Please adapt your code to use either `displot` (a figure-level function with similar flexibility) or `histplot` (an axes-level function for histograms).\n",
      "  warnings.warn(msg, FutureWarning)\n"
     ]
    },
    {
     "data": {
      "text/plain": [
       "<AxesSubplot:xlabel='transformed_house_price', ylabel='Density'>"
      ]
     },
     "execution_count": 39,
     "metadata": {},
     "output_type": "execute_result"
    },
    {
     "data": {
      "image/png": "[encoded data removed]",
      "text/plain": [
       "<Figure size 432x288 with 1 Axes>"
      ]
     },
     "metadata": {
      "needs_background": "light"
     },
     "output_type": "display_data"
    }
   ],
   "source": [
    "df['transformed_house_price']=df['house_price'].transform([np.sqrt])\n",
    "df\n",
    "sns.distplot(df['transformed_house_price'])"
   ]
  },
  {
   "cell_type": "markdown",
   "id": "0a15ad4e",
   "metadata": {},
   "source": [
    "# Model building"
   ]
  },
  {
   "cell_type": "markdown",
   "id": "68ce42b9",
   "metadata": {},
   "source": [
    "#### H0: There is no relationship between  house price and other attributes"
   ]
  },
  {
   "cell_type": "markdown",
   "id": "a856d81b",
   "metadata": {},
   "source": [
    "#### H1: There is relationship between house price and other attributes"
   ]
  },
  {
   "cell_type": "code",
   "execution_count": 40,
   "id": "e3aae7ae",
   "metadata": {},
   "outputs": [
    {
     "data": {
      "text/html": [
       "<table class=\"simpletable\">\n",
       "<caption>OLS Regression Results</caption>\n",
       "<tr>\n",
       "  <th>Dep. Variable:</th>    <td>transformed_house_price</td> <th>  R-squared:         </th> <td>   0.658</td>\n",
       "</tr>\n",
       "<tr>\n",
       "  <th>Model:</th>                      <td>OLS</td>           <th>  Adj. R-squared:    </th> <td>   0.652</td>\n",
       "</tr>\n",
       "<tr>\n",
       "  <th>Method:</th>                <td>Least Squares</td>      <th>  F-statistic:       </th> <td>   108.9</td>\n",
       "</tr>\n",
       "<tr>\n",
       "  <th>Date:</th>                <td>Wed, 18 May 2022</td>     <th>  Prob (F-statistic):</th> <td>7.79e-64</td>\n",
       "</tr>\n",
       "<tr>\n",
       "  <th>Time:</th>                    <td>00:06:51</td>         <th>  Log-Likelihood:    </th> <td> -286.45</td>\n",
       "</tr>\n",
       "<tr>\n",
       "  <th>No. Observations:</th>         <td>   289</td>          <th>  AIC:               </th> <td>   584.9</td>\n",
       "</tr>\n",
       "<tr>\n",
       "  <th>Df Residuals:</th>             <td>   283</td>          <th>  BIC:               </th> <td>   606.9</td>\n",
       "</tr>\n",
       "<tr>\n",
       "  <th>Df Model:</th>                 <td>     5</td>          <th>                     </th>     <td> </td>   \n",
       "</tr>\n",
       "<tr>\n",
       "  <th>Covariance Type:</th>         <td>nonrobust</td>        <th>                     </th>     <td> </td>   \n",
       "</tr>\n",
       "</table>\n",
       "<table class=\"simpletable\">\n",
       "<tr>\n",
       "                   <td></td>                      <th>coef</th>     <th>std err</th>      <th>t</th>      <th>P>|t|</th>  <th>[0.025</th>    <th>0.975]</th>  \n",
       "</tr>\n",
       "<tr>\n",
       "  <th>Intercept</th>                           <td> -801.9252</td> <td>  530.163</td> <td>   -1.513</td> <td> 0.131</td> <td>-1845.488</td> <td>  241.637</td>\n",
       "</tr>\n",
       "<tr>\n",
       "  <th>house_age</th>                           <td>   -0.0238</td> <td>    0.003</td> <td>   -7.231</td> <td> 0.000</td> <td>   -0.030</td> <td>   -0.017</td>\n",
       "</tr>\n",
       "<tr>\n",
       "  <th>distance_to_the_nearest_MRT_station</th> <td>   -0.0005</td> <td> 7.46e-05</td> <td>   -7.079</td> <td> 0.000</td> <td>   -0.001</td> <td>   -0.000</td>\n",
       "</tr>\n",
       "<tr>\n",
       "  <th>number_of_convenience_stores</th>        <td>    0.0736</td> <td>    0.017</td> <td>    4.309</td> <td> 0.000</td> <td>    0.040</td> <td>    0.107</td>\n",
       "</tr>\n",
       "<tr>\n",
       "  <th>latitude</th>                            <td>   23.7944</td> <td>    3.865</td> <td>    6.157</td> <td> 0.000</td> <td>   16.187</td> <td>   31.401</td>\n",
       "</tr>\n",
       "<tr>\n",
       "  <th>longitude</th>                           <td>    1.7647</td> <td>    4.213</td> <td>    0.419</td> <td> 0.676</td> <td>   -6.528</td> <td>   10.057</td>\n",
       "</tr>\n",
       "</table>\n",
       "<table class=\"simpletable\">\n",
       "<tr>\n",
       "  <th>Omnibus:</th>       <td>42.518</td> <th>  Durbin-Watson:     </th> <td>   1.921</td>\n",
       "</tr>\n",
       "<tr>\n",
       "  <th>Prob(Omnibus):</th> <td> 0.000</td> <th>  Jarque-Bera (JB):  </th> <td> 300.511</td>\n",
       "</tr>\n",
       "<tr>\n",
       "  <th>Skew:</th>          <td> 0.252</td> <th>  Prob(JB):          </th> <td>5.56e-66</td>\n",
       "</tr>\n",
       "<tr>\n",
       "  <th>Kurtosis:</th>      <td> 7.970</td> <th>  Cond. No.          </th> <td>1.87e+07</td>\n",
       "</tr>\n",
       "</table><br/><br/>Notes:<br/>[1] Standard Errors assume that the covariance matrix of the errors is correctly specified.<br/>[2] The condition number is large, 1.87e+07. This might indicate that there are<br/>strong multicollinearity or other numerical problems."
      ],
      "text/plain": [
       "<class 'statsmodels.iolib.summary.Summary'>\n",
       "\"\"\"\n",
       "                               OLS Regression Results                              \n",
       "===================================================================================\n",
       "Dep. Variable:     transformed_house_price   R-squared:                       0.658\n",
       "Model:                                 OLS   Adj. R-squared:                  0.652\n",
       "Method:                      Least Squares   F-statistic:                     108.9\n",
       "Date:                     Wed, 18 May 2022   Prob (F-statistic):           7.79e-64\n",
       "Time:                             00:06:51   Log-Likelihood:                -286.45\n",
       "No. Observations:                      289   AIC:                             584.9\n",
       "Df Residuals:                          283   BIC:                             606.9\n",
       "Df Model:                                5                                         \n",
       "Covariance Type:                 nonrobust                                         \n",
       "=======================================================================================================\n",
       "                                          coef    std err          t      P>|t|      [0.025      0.975]\n",
       "-------------------------------------------------------------------------------------------------------\n",
       "Intercept                            -801.9252    530.163     -1.513      0.131   -1845.488     241.637\n",
       "house_age                              -0.0238      0.003     -7.231      0.000      -0.030      -0.017\n",
       "distance_to_the_nearest_MRT_station    -0.0005   7.46e-05     -7.079      0.000      -0.001      -0.000\n",
       "number_of_convenience_stores            0.0736      0.017      4.309      0.000       0.040       0.107\n",
       "latitude                               23.7944      3.865      6.157      0.000      16.187      31.401\n",
       "longitude                               1.7647      4.213      0.419      0.676      -6.528      10.057\n",
       "==============================================================================\n",
       "Omnibus:                       42.518   Durbin-Watson:                   1.921\n",
       "Prob(Omnibus):                  0.000   Jarque-Bera (JB):              300.511\n",
       "Skew:                           0.252   Prob(JB):                     5.56e-66\n",
       "Kurtosis:                       7.970   Cond. No.                     1.87e+07\n",
       "==============================================================================\n",
       "\n",
       "Notes:\n",
       "[1] Standard Errors assume that the covariance matrix of the errors is correctly specified.\n",
       "[2] The condition number is large, 1.87e+07. This might indicate that there are\n",
       "strong multicollinearity or other numerical problems.\n",
       "\"\"\""
      ]
     },
     "execution_count": 40,
     "metadata": {},
     "output_type": "execute_result"
    }
   ],
   "source": [
    "import statsmodels.formula.api as smf\n",
    "model = smf.ols('transformed_house_price ~ house_age + distance_to_the_nearest_MRT_station + number_of_convenience_stores + latitude +longitude',data=df).fit()\n",
    "model.summary()"
   ]
  },
  {
   "cell_type": "markdown",
   "id": "c20fb686",
   "metadata": {},
   "source": [
    "# Multicollinearity"
   ]
  },
  {
   "cell_type": "code",
   "execution_count": 42,
   "id": "d9ae6a17",
   "metadata": {},
   "outputs": [
    {
     "data": {
      "text/plain": [
       "(289, 6)"
      ]
     },
     "execution_count": 42,
     "metadata": {},
     "output_type": "execute_result"
    }
   ],
   "source": [
    "x1.shape"
   ]
  },
  {
   "cell_type": "code",
   "execution_count": 41,
   "id": "24a7b6ee",
   "metadata": {},
   "outputs": [
    {
     "data": {
      "text/plain": [
       "house_age                              3.970076e+00\n",
       "distance_to_the_nearest_MRT_station    5.199796e+00\n",
       "number_of_convenience_stores           5.082390e+00\n",
       "latitude                               6.445257e+06\n",
       "longitude                              6.427800e+06\n",
       "transformed_house_price                8.787738e+01\n",
       "dtype: float64"
      ]
     },
     "execution_count": 41,
     "metadata": {},
     "output_type": "execute_result"
    }
   ],
   "source": [
    "from statsmodels.stats.outliers_influence import variance_inflation_factor\n",
    "x1 =df.drop('house_price',axis=1)\n",
    "\n",
    "series_before=pd.Series([variance_inflation_factor(x1.values,i)\n",
    "                        for i in range(x1.shape[1])],\n",
    "                       index=x1.columns)\n",
    "series_before"
   ]
  },
  {
   "cell_type": "markdown",
   "id": "1d36f9ae",
   "metadata": {},
   "source": [
    "# Assumptions of model"
   ]
  },
  {
   "cell_type": "markdown",
   "id": "217eacc4",
   "metadata": {},
   "source": [
    "## 1.Linearity"
   ]
  },
  {
   "cell_type": "code",
   "execution_count": null,
   "id": "ca4477e8",
   "metadata": {},
   "outputs": [],
   "source": [
    "sns.scatterplot(x='',y='',data=df)"
   ]
  },
  {
   "cell_type": "markdown",
   "id": "e7d17616",
   "metadata": {},
   "source": [
    "## 2. Constant variance"
   ]
  },
  {
   "cell_type": "code",
   "execution_count": null,
   "id": "db68e7a1",
   "metadata": {},
   "outputs": [],
   "source": [
    "df['fitted_values']=model.fittedvalues\n",
    "df['residual']=model.resid\n",
    "df"
   ]
  },
  {
   "cell_type": "code",
   "execution_count": null,
   "id": "d7f44860",
   "metadata": {},
   "outputs": [],
   "source": [
    "sns.scatterplot(x='fitted_values',y='residual',data=df)"
   ]
  },
  {
   "cell_type": "markdown",
   "id": "764a1429",
   "metadata": {},
   "source": [
    "## 3.Normality"
   ]
  },
  {
   "cell_type": "code",
   "execution_count": null,
   "id": "85a38b94",
   "metadata": {},
   "outputs": [],
   "source": [
    "import statsmodels.api as sm\n",
    "fig = sm.qqplot(df['residual'],fit=True,line='s')\n",
    "fig.show()"
   ]
  },
  {
   "cell_type": "markdown",
   "id": "2e4f6dcc",
   "metadata": {},
   "source": [
    "## 4. Model in error is idependently identically distributed"
   ]
  },
  {
   "cell_type": "code",
   "execution_count": null,
   "id": "fbaca103",
   "metadata": {},
   "outputs": [],
   "source": [
    "sns.distplot(df.residual)"
   ]
  },
  {
   "cell_type": "markdown",
   "id": "5d76030c",
   "metadata": {},
   "source": [
    "## Prediction on test data"
   ]
  },
  {
   "cell_type": "code",
   "execution_count": null,
   "id": "7e0f5c05",
   "metadata": {},
   "outputs": [],
   "source": [
    "test = pd.concat([X_test,Y_test],axis=1)\n",
    "test"
   ]
  },
  {
   "cell_type": "code",
   "execution_count": null,
   "id": "93761d40",
   "metadata": {},
   "outputs": [],
   "source": [
    "test['predicted']=model.predict(test)\n",
    "test"
   ]
  }
 ],
 "metadata": {
  "kernelspec": {
   "display_name": "Python 3 (ipykernel)",
   "language": "python",
   "name": "python3"
  },
  "language_info": {
   "codemirror_mode": {
    "name": "ipython",
    "version": 3
   },
   "file_extension": ".py",
   "mimetype": "text/x-python",
   "name": "python",
   "nbconvert_exporter": "python",
   "pygments_lexer": "ipython3",
   "version": "3.9.7"
  }
 },
 "nbformat": 4,
 "nbformat_minor": 5
}
